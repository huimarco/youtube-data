{
  "nbformat": 4,
  "nbformat_minor": 0,
  "metadata": {
    "colab": {
      "provenance": [],
      "collapsed_sections": [
        "fr2H0x07KfPE",
        "5hbC83ZUJuE2"
      ],
      "authorship_tag": "ABX9TyNUrpw4fz9celGmlVsWjsYq"
    },
    "kernelspec": {
      "name": "python3",
      "display_name": "Python 3"
    },
    "language_info": {
      "name": "python"
    }
  },
  "cells": [
    {
      "cell_type": "markdown",
      "source": [
        "# Introduction\n",
        "\n",
        "The [youtube data api](https://developers.google.com/youtube/v3) allows users to access data on videos using specific search terms, topics, locations, publication dates, and much more. \n",
        "\n",
        "Follow [this guide](https://developers.google.com/youtube/v3/getting-started) to create your own API key."
      ],
      "metadata": {
        "id": "tUe2Spe1Sc5Y"
      }
    },
    {
      "cell_type": "markdown",
      "source": [
        "# Google API\n",
        "\n",
        "The code below downloads the Google API Python client library then creates an instance of the googleapiclient.discovery object. It passes in the API name, version, and your key as parameters. A service object allows users to easily use built-in methods to access API endpoints."
      ],
      "metadata": {
        "id": "KkN7VWlJUVul"
      }
    },
    {
      "cell_type": "code",
      "source": [
        "#!pip install google-api-python-client\n",
        "\n",
        "# import library\n",
        "import googleapiclient.discovery\n",
        "\n",
        "# connect API\n",
        "api_service_name = 'youtube'\n",
        "api_version = 'v3'\n",
        "developer_key = '[YOUR API KEY]'\n",
        "\n",
        "youtube = googleapiclient.discovery.build(\n",
        "        api_service_name, api_version, developerKey = developer_key)"
      ],
      "metadata": {
        "id": "0U8nJlsRwUeV"
      },
      "execution_count": null,
      "outputs": []
    },
    {
      "cell_type": "markdown",
      "source": [
        "# Get Channel Overview\n",
        "Given a channel id, the function below makes a request for the matching channel object, which contains all data on a channel. It is a helper function to be used later on by other functions to filter relevant data.\n",
        "\n",
        "Channel id is a string that Youtube uses uniquely identify a specific channel. Use [this website](https://commentpicker.com/youtube-channel-id.php) to find any channel id given a name.\n",
        "\n",
        "The second functions gets some channel overview data like total number of subscribers and views, given a channel id."
      ],
      "metadata": {
        "id": "k6d6cebrUuXR"
      }
    },
    {
      "cell_type": "code",
      "source": [
        "# function to get channel data\n",
        "def getChannel(channel_id):\n",
        "  request = youtube.channels().list(\n",
        "      part='snippet,contentDetails,statistics',\n",
        "      id=channel_id)\n",
        "  response = request.execute()\n",
        "  return response['items'][0]\n",
        "\n",
        "# function to get channel stats\n",
        "def getChannelStats(channel_id):\n",
        "  result = getChannel(channel_id)\n",
        "  return result['statistics']"
      ],
      "metadata": {
        "id": "4UzFmNf2VDF1"
      },
      "execution_count": null,
      "outputs": []
    },
    {
      "cell_type": "markdown",
      "source": [
        "# Get Video Metadata"
      ],
      "metadata": {
        "id": "1AliznLnVU-2"
      }
    },
    {
      "cell_type": "markdown",
      "source": [
        "YouTube organises its videos into playlists. To query all available videos from a channel, we will need to access the 'recently uploaded' playlist.\n",
        "\n",
        "Given a channel id, the code below finds the id of the uploads playlist. Note how it uses the getChannel() function we wrote above."
      ],
      "metadata": {
        "id": "g2yYJnaGVbgH"
      }
    },
    {
      "cell_type": "code",
      "source": [
        "# function to get uploads playlist id\n",
        "def getUploadsId(channel_id):\n",
        "  result = getChannel(channel_id)\n",
        "  return result['contentDetails']['relatedPlaylists']['uploads']"
      ],
      "metadata": {
        "id": "JrELMYO-VUeI"
      },
      "execution_count": null,
      "outputs": []
    },
    {
      "cell_type": "markdown",
      "source": [
        "Get all playlist ids."
      ],
      "metadata": {
        "id": "2Qc-hAt4wc0X"
      }
    },
    {
      "cell_type": "code",
      "source": [
        "# function to get playlists\n",
        "def getPlaylists(channel_id):\n",
        "  request = youtube.playlists().list(\n",
        "      part='snippet',\n",
        "      id=channel_id)\n",
        "  response = request.execute()\n",
        "  return response"
      ],
      "metadata": {
        "id": "ipf_1M-Xwg8w"
      },
      "execution_count": null,
      "outputs": []
    },
    {
      "cell_type": "markdown",
      "source": [
        "Given an uploads playlist id, the code below gets a list of video ids of all videos in the playlist. Because the Youtube Data API limits 50 results per request, we will need to use a helper function and loop through multiple pages."
      ],
      "metadata": {
        "id": "iyxeRKX2VjOI"
      }
    },
    {
      "cell_type": "code",
      "source": [
        "# helper function to get list of 50 video ids\n",
        "def getVideoIdsPage(uploads_id, page_token):\n",
        "  request = youtube.playlistItems().list(\n",
        "      part='snippet',\n",
        "      playlistId = uploads_id,\n",
        "      pageToken = page_token,\n",
        "      maxResults = 50)\n",
        "  response = request.execute()\n",
        "  return response\n",
        "\n",
        "# function to get list of all video ids\n",
        "def getVideoIds(uploads_id):\n",
        "  # output list\n",
        "  output = []\n",
        "  # variable for page token\n",
        "  nextPageToken = None\n",
        "  # loop through pages\n",
        "  while True:\n",
        "    temp = getVideoIdsPage(uploads_id,nextPageToken)\n",
        "    # extract video ids into list\n",
        "    video_id_list = [i['snippet']['resourceId']['videoId'] for i in temp['items']]\n",
        "    # append to output list\n",
        "    output.extend(video_id_list)\n",
        "    try: \n",
        "      nextPageToken = temp['nextPageToken']\n",
        "      #print('added 50 videos')\n",
        "    except:\n",
        "      #print('no more pages')\n",
        "      break\n",
        "  return output"
      ],
      "metadata": {
        "id": "4DCK6U8hVt_-"
      },
      "execution_count": null,
      "outputs": []
    },
    {
      "cell_type": "markdown",
      "source": [
        "Given a list of video ids, the code below gets a pandas data frame populated by all videos and descriptive data. Again, we use a helper function to loop through each video id in a list."
      ],
      "metadata": {
        "id": "Y-GFiZsGWvr8"
      }
    },
    {
      "cell_type": "code",
      "source": [
        "# import library\n",
        "import pandas as pd\n",
        "\n",
        "# helper function to get video metadata\n",
        "def getVideoStatsPage(video_id):\n",
        "  request = youtube.videos().list(\n",
        "      part='snippet,contentDetails,liveStreamingDetails,statistics',\n",
        "      id=video_id)\n",
        "  response = request.execute()\n",
        "  output = pd.json_normalize(response,record_path=['items'])\n",
        "  return output\n",
        "\n",
        "# function to get video metadata\n",
        "def getVideoStats(video_id_list):\n",
        "  output = pd.DataFrame()\n",
        "  for i in video_id_list:\n",
        "    output = pd.concat([output,getVideoStatsPage(i)])\n",
        "  return output[['id','snippet.publishedAt','snippet.title',\n",
        "                 'snippet.description','snippet.tags','contentDetails.duration',\n",
        "                 'liveStreamingDetails.scheduledStartTime','liveStreamingDetails.actualStartTime',\n",
        "                 #'liveStreamingDetails.scheduledEndTime','liveStreamingDetails.actualEndTime',\n",
        "                 #'liveStreamingDetails.concurrentViewers','liveStreamingDetails.activeLiveChatId',\n",
        "                 'statistics.viewCount','statistics.favoriteCount',\n",
        "                 'statistics.likeCount','statistics.commentCount']]"
      ],
      "metadata": {
        "id": "vm-ElEQHW0DE"
      },
      "execution_count": null,
      "outputs": []
    },
    {
      "cell_type": "markdown",
      "source": [
        "# Example implementation\n",
        "The code below tests all functions on an example channel."
      ],
      "metadata": {
        "id": "fr2H0x07KfPE"
      }
    },
    {
      "cell_type": "code",
      "source": [
        "h3 = getVideoStats(getVideoIds(getUploadsId('UCLtREJY21xRfCuEKvdki1Kw')))"
      ],
      "metadata": {
        "colab": {
          "base_uri": "https://localhost:8080/"
        },
        "id": "kr3mditLsex5",
        "outputId": "b95c8f42-cb8f-4fb3-b3a9-ae5651b4fb82"
      },
      "execution_count": null,
      "outputs": [
        {
          "output_type": "execute_result",
          "data": {
            "text/plain": [
              "Index(['id', 'snippet.publishedAt', 'snippet.title', 'snippet.description',\n",
              "       'snippet.tags', 'contentDetails.duration',\n",
              "       'liveStreamingDetails.scheduledStartTime',\n",
              "       'liveStreamingDetails.actualStartTime', 'statistics.viewCount',\n",
              "       'statistics.favoriteCount', 'statistics.likeCount',\n",
              "       'statistics.commentCount'],\n",
              "      dtype='object')"
            ]
          },
          "metadata": {},
          "execution_count": 26
        }
      ]
    },
    {
      "cell_type": "markdown",
      "source": [
        "# Export Data\n",
        "The code below exports data onto the local desktop as a csv file. "
      ],
      "metadata": {
        "id": "5hbC83ZUJuE2"
      }
    },
    {
      "cell_type": "code",
      "source": [
        "# import libraries\n",
        "from google.colab import files\n",
        "import io\n",
        "\n",
        "h3.to_csv('h3Videos.csv')\n",
        "files.download('h3Videos.csv')"
      ],
      "metadata": {
        "colab": {
          "base_uri": "https://localhost:8080/",
          "height": 34
        },
        "id": "T310a3hCJvvn",
        "outputId": "eea1fcbf-4a98-490b-afc7-3a795c77f0d7"
      },
      "execution_count": null,
      "outputs": [
        {
          "output_type": "display_data",
          "data": {
            "text/plain": [
              "<IPython.core.display.Javascript object>"
            ],
            "application/javascript": [
              "\n",
              "    async function download(id, filename, size) {\n",
              "      if (!google.colab.kernel.accessAllowed) {\n",
              "        return;\n",
              "      }\n",
              "      const div = document.createElement('div');\n",
              "      const label = document.createElement('label');\n",
              "      label.textContent = `Downloading \"${filename}\": `;\n",
              "      div.appendChild(label);\n",
              "      const progress = document.createElement('progress');\n",
              "      progress.max = size;\n",
              "      div.appendChild(progress);\n",
              "      document.body.appendChild(div);\n",
              "\n",
              "      const buffers = [];\n",
              "      let downloaded = 0;\n",
              "\n",
              "      const channel = await google.colab.kernel.comms.open(id);\n",
              "      // Send a message to notify the kernel that we're ready.\n",
              "      channel.send({})\n",
              "\n",
              "      for await (const message of channel.messages) {\n",
              "        // Send a message to notify the kernel that we're ready.\n",
              "        channel.send({})\n",
              "        if (message.buffers) {\n",
              "          for (const buffer of message.buffers) {\n",
              "            buffers.push(buffer);\n",
              "            downloaded += buffer.byteLength;\n",
              "            progress.value = downloaded;\n",
              "          }\n",
              "        }\n",
              "      }\n",
              "      const blob = new Blob(buffers, {type: 'application/binary'});\n",
              "      const a = document.createElement('a');\n",
              "      a.href = window.URL.createObjectURL(blob);\n",
              "      a.download = filename;\n",
              "      div.appendChild(a);\n",
              "      a.click();\n",
              "      div.remove();\n",
              "    }\n",
              "  "
            ]
          },
          "metadata": {}
        },
        {
          "output_type": "display_data",
          "data": {
            "text/plain": [
              "<IPython.core.display.Javascript object>"
            ],
            "application/javascript": [
              "download(\"download_28c2a1ed-da03-4c4f-bc84-a4343c8c10b4\", \"h3Videos.csv\", 447509)"
            ]
          },
          "metadata": {}
        }
      ]
    },
    {
      "cell_type": "markdown",
      "source": [
        "# [TESTING] Get Subscribers Metadata"
      ],
      "metadata": {
        "id": "s7wTysEFPSgK"
      }
    },
    {
      "cell_type": "code",
      "source": [
        "# function to get channel data\n",
        "def getSubscriptions():\n",
        "  request = youtube.subscriptions().list(\n",
        "      part='snippet,contentDetails,subscriberSnippet',\n",
        "      mine = True)\n",
        "  response = request.execute()\n",
        "  return response"
      ],
      "metadata": {
        "id": "H9vfA2zCPU7N"
      },
      "execution_count": null,
      "outputs": []
    },
    {
      "cell_type": "code",
      "source": [
        "getSubscriptions()"
      ],
      "metadata": {
        "id": "dTSH2krXPtce"
      },
      "execution_count": null,
      "outputs": []
    }
  ]
}